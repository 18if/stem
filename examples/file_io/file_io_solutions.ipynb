{
 "cells": [
  {
   "cell_type": "markdown",
   "metadata": {},
   "source": [
    "# Solutions to file_io.md"
   ]
  },
  {
   "cell_type": "code",
   "execution_count": 1,
   "metadata": {},
   "outputs": [
    {
     "name": "stdout",
     "output_type": "stream",
     "text": [
      "the\t23135851162\n",
      "of\t13151942776\n",
      "and\t12997637966\n",
      "to\t12136980858\n",
      "a\t9081174698\n",
      "in\t8469404971\n",
      "for\t5933321\n"
     ]
    }
   ],
   "source": [
    "# Open and read out the contents of the file 'common_words.txt'\n",
    "\n",
    "# ========================== #\n",
    "# * solution using .read() * #\n",
    "# ========================== #\n",
    "\n",
    "# *calling .read(100) limits the output to the first 100 bytes\n",
    "# This keeps the output manageable for this notebook. \n",
    "# The output of the .read() method is a *string*\n",
    "\n",
    "with open('common_words.txt') as f:\n",
    "    print(f.read(100))\n",
    "    \n",
    "# NOTE: If you're using the command line interpreter, print() is redundant since returned values are sent to stdout by default."
   ]
  },
  {
   "cell_type": "code",
   "execution_count": 2,
   "metadata": {},
   "outputs": [
    {
     "name": "stdout",
     "output_type": "stream",
     "text": [
      "['the\\t23135851162\\n', 'of\\t13151942776\\n', 'and\\t12997637966\\n', 'to\\t12136980858\\n', 'a\\t9081174698\\n', 'in\\t8469404971\\n', 'for\\t5933321709\\n']\n"
     ]
    }
   ],
   "source": [
    "# ============================= #\n",
    "# * solution using .readlines * #\n",
    "# ============================= #\n",
    "\n",
    "# *calling .readlines(100) limits the output to the first 100 bytes\n",
    "# The output of the .readlines() method is a list of strings.\n",
    "\n",
    "with open('common_words.txt') as f:\n",
    "    print(f.readlines(100))\n",
    "    "
   ]
  },
  {
   "cell_type": "code",
   "execution_count": 3,
   "metadata": {},
   "outputs": [
    {
     "name": "stdout",
     "output_type": "stream",
     "text": [
      "the\t23135851162\n",
      "\n",
      "of\t13151942776\n",
      "\n",
      "and\t12997637966\n",
      "\n",
      "to\t12136980858\n",
      "\n",
      "a\t9081174698\n",
      "\n",
      "in\t8469404971\n",
      "\n",
      "for\t5933321709\n",
      "\n",
      "is\t4705743816\n",
      "\n",
      "on\t3750423199\n",
      "\n",
      "that\t3400031103\n",
      "\n"
     ]
    }
   ],
   "source": [
    "# ============================ #\n",
    "# * solution using iteration * #\n",
    "# ============================ #\n",
    "\n",
    "# using range(10) to limit output to the first 10 lines of the file\n",
    "\n",
    "with open('common_words.txt') as f:\n",
    "    for i in range(10):\n",
    "        print(next(f))\n",
    "        \n",
    "# You can also iterate directly over the whole file with something like:\n",
    "\n",
    "# with open(\"common_words.txt\") as f:\n",
    "#    for line in f:\n",
    "#       print(line)\n"
   ]
  },
  {
   "cell_type": "code",
   "execution_count": 4,
   "metadata": {},
   "outputs": [
    {
     "name": "stdout",
     "output_type": "stream",
     "text": [
      "the\n",
      "of\n",
      "and\n",
      "to\n",
      "a\n",
      "in\n",
      "for\n",
      "is\n",
      "on\n",
      "that\n"
     ]
    }
   ],
   "source": [
    "# Capture just the first column:\n",
    "# Note: you'll want to change the code in your project to run over the whole file instead of the first 10 records\n",
    "\n",
    "with open('common_words.txt') as f:\n",
    "    for i in range(10):\n",
    "        print(next(f).split('\\t')[0])\n",
    "        \n",
    "# next(f) yields the next line of the file as a string: \"the\\t23135851162\"\n",
    "# .split('\\t') breaks the string at the tab and makes a list of the pieces: [\"the\", \"23135851162\"]\n",
    "# [0] is the index that yields the first element of each list: \"the\""
   ]
  },
  {
   "cell_type": "code",
   "execution_count": 5,
   "metadata": {},
   "outputs": [
    {
     "name": "stdout",
     "output_type": "stream",
     "text": [
      "the\r\n",
      "of\r\n",
      "and\r\n",
      "to\r\n",
      "a\r\n",
      "in\r\n",
      "for\r\n",
      "is\r\n",
      "on\r\n",
      "that\r\n"
     ]
    }
   ],
   "source": [
    "# Write the results from the previous exercise to a file called \"only_words.txt\"\n",
    "\n",
    "# ============================ #\n",
    "# * solution using iteration * #\n",
    "# ============================ #\n",
    "\n",
    "with open('common_words.txt') as readfile:\n",
    "    with open('only_words.txt', 'w') as writefile:\n",
    "        for line in readfile:\n",
    "            writefile.write(line.split('\\t')[0] + '\\n')\n",
    "\n",
    "# Remember from the previous exercise that line.split('\\t')[0] grabs only the word and ignores the frequency\n",
    "# + '\\n' adds a newline character at the end of the word so that each word is written to a new line in the file.\n",
    "\n",
    "# This line uses a bash command to display the first 10 lines of the newly created file\n",
    "# You can use a text editor or the actual command prompt for this if you'd like.\n",
    "!head only_words.txt"
   ]
  }
 ],
 "metadata": {
  "kernelspec": {
   "display_name": "Python 3",
   "language": "python",
   "name": "python3"
  },
  "language_info": {
   "codemirror_mode": {
    "name": "ipython",
    "version": 3
   },
   "file_extension": ".py",
   "mimetype": "text/x-python",
   "name": "python",
   "nbconvert_exporter": "python",
   "pygments_lexer": "ipython3",
   "version": "3.6.3"
  }
 },
 "nbformat": 4,
 "nbformat_minor": 2
}
